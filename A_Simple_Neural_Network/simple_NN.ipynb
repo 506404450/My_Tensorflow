{
 "cells": [
  {
   "cell_type": "markdown",
   "metadata": {},
   "source": [
    "&emsp;搭建一个简单的三层网络，包括一个输入层，一个隐含层，一个输出层"
   ]
  },
  {
   "cell_type": "code",
   "execution_count": 1,
   "metadata": {
    "collapsed": true
   },
   "outputs": [],
   "source": [
    "import tensorflow as tf\n",
    "import numpy as np"
   ]
  },
  {
   "cell_type": "markdown",
   "metadata": {},
   "source": [
    "&emsp;创建一个函数add_layer用于添加神经网络层：  \n",
    "&emsp;输入有&emsp;1、inputs:代表该层的输入数据&emsp;2、in_size:输入的属性个数，也就是该层神经元数&emsp;3、out_size:输出个数，对应下层的in_size&emsp;4、activation:激励函数，用来实现非线性   "
   ]
  },
  {
   "cell_type": "code",
   "execution_count": 2,
   "metadata": {
    "collapsed": false
   },
   "outputs": [],
   "source": [
    "def add_layer(inputs, in_size, out_size, activation = None):\n",
    "    Weight = tf.Variable(tf.random_normal([in_size, out_size]))\n",
    "    Bias = tf.Variable(tf.zeros([1, out_size]) + 0.1) \n",
    "    Y = tf.matmul(inputs, Weight) + Bias\n",
    "    if activation == None:\n",
    "        outputs = Y\n",
    "    else:\n",
    "        outputs = activation(Y)\n",
    "    return outputs"
   ]
  },
  {
   "cell_type": "markdown",
   "metadata": {},
   "source": [
    "&emsp;生成训练数据x_data与之对应的y_data，并加入了一些随机值噪音。x_data共300个样本，值位于-1与1之间  \n",
    "&emsp;这里用到了tf.placeholder，这是tensorflow的占位符，通常用于为输入数据占位  \n",
    "&emsp;[:,np.newaxis]是为x_data的数据增加一个维数，这里其实起转置的作用"
   ]
  },
  {
   "cell_type": "code",
   "execution_count": 3,
   "metadata": {
    "collapsed": false
   },
   "outputs": [],
   "source": [
    "xs = tf.placeholder(tf.float32, [None, 1])\n",
    "ys = tf.placeholder(tf.float32, [None, 1])\n",
    "x_data = np.linspace(-1, 1, 300)[:, np.newaxis]\n",
    "#效果等同于：\n",
    "#x_data = np.linspace(-1, 1, 300)\n",
    "#x_data = np.transpose([x_data])\n",
    "#注意np.transpose只对矩阵有用，而linspace生成的是一个向量，shape为(300，)，需要加一个[]将其shape变为(1,300)\n",
    "noise = np.random.normal(0, 0.05, x_data.shape)\n",
    "y_data = np.square(x_data) - 0.5 + noise"
   ]
  },
  {
   "cell_type": "markdown",
   "metadata": {},
   "source": [
    "&emsp;$y=Wx+b$  式中特征属性只有一个$W$，因此输入层神经元只用一个  \n",
    "&emsp;隐含层的神经元个数不定，如何设定可以获得最好效果至今尚未有精确的方法，这里设为10个"
   ]
  },
  {
   "cell_type": "code",
   "execution_count": 4,
   "metadata": {
    "collapsed": false
   },
   "outputs": [],
   "source": [
    "hiden = add_layer(xs, 1, 10, tf.nn.relu)\n",
    "out = add_layer(hiden, 10, 1, activation = None)"
   ]
  },
  {
   "cell_type": "markdown",
   "metadata": {},
   "source": [
    "&emsp;定义损失函数与优化方法，reduce_sum第二个参数表示在某一维求和，若无则对所有的值求和，这个参数对所有reduce_xxx方法具有同样意义"
   ]
  },
  {
   "cell_type": "code",
   "execution_count": 5,
   "metadata": {
    "collapsed": true
   },
   "outputs": [],
   "source": [
    "loss = tf.reduce_mean((tf.reduce_sum(tf.square(ys - out), 1)))\n",
    "train = tf.train.GradientDescentOptimizer(0.1).minimize(loss)\n",
    "init = tf.global_variables_initializer()"
   ]
  },
  {
   "cell_type": "markdown",
   "metadata": {},
   "source": [
    "&emsp;利用会话启动网络，每次调用含有placeholder的方法时都必须用feed_dict为placeholder赋值"
   ]
  },
  {
   "cell_type": "code",
   "execution_count": 6,
   "metadata": {
    "collapsed": false
   },
   "outputs": [
    {
     "name": "stdout",
     "output_type": "stream",
     "text": [
      "0.245179\n",
      "0.0106736\n",
      "0.00646235\n",
      "0.00566805\n",
      "0.00534444\n",
      "0.00513883\n",
      "0.00496689\n",
      "0.00481306\n",
      "0.0046786\n",
      "0.00455677\n",
      "0.00444206\n",
      "0.00433182\n",
      "0.00422759\n",
      "0.00412685\n",
      "0.00402952\n",
      "0.00393568\n",
      "0.00384559\n",
      "0.00375995\n",
      "0.00367748\n",
      "0.00360045\n"
     ]
    }
   ],
   "source": [
    "with tf.Session() as sess:\n",
    "    sess.run(init)\n",
    "    for step in range(1000):\n",
    "        sess.run(train, feed_dict = {xs : x_data, ys : y_data})\n",
    "        if step % 50 == 0:\n",
    "            print(sess.run(loss, feed_dict = {xs : x_data, ys : y_data}))"
   ]
  }
 ],
 "metadata": {
  "kernelspec": {
   "display_name": "Python 3",
   "language": "python",
   "name": "python3"
  },
  "language_info": {
   "codemirror_mode": {
    "name": "ipython",
    "version": 3
   },
   "file_extension": ".py",
   "mimetype": "text/x-python",
   "name": "python",
   "nbconvert_exporter": "python",
   "pygments_lexer": "ipython3",
   "version": "3.5.2"
  }
 },
 "nbformat": 4,
 "nbformat_minor": 2
}
