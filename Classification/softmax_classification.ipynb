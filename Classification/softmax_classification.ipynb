{
 "cells": [
  {
   "cell_type": "code",
   "execution_count": 1,
   "metadata": {
    "collapsed": false
   },
   "outputs": [
    {
     "name": "stdout",
     "output_type": "stream",
     "text": [
      "Extracting MINST_data/train-images-idx3-ubyte.gz\n",
      "Extracting MINST_data/train-labels-idx1-ubyte.gz\n",
      "Extracting MINST_data/t10k-images-idx3-ubyte.gz\n",
      "Extracting MINST_data/t10k-labels-idx1-ubyte.gz\n"
     ]
    }
   ],
   "source": [
    "import tensorflow as tf\n",
    "from tensorflow.examples.tutorials.mnist import input_data\n",
    "mnist = input_data.read_data_sets('MINST_data', one_hot = True)"
   ]
  },
  {
   "cell_type": "code",
   "execution_count": 2,
   "metadata": {
    "collapsed": true
   },
   "outputs": [],
   "source": [
    "def add_layer(inputs, in_size, out_size, activation = None):\n",
    "    Weight = tf.Variable(tf.random_normal([in_size, out_size]))\n",
    "    Bias = tf.Variable(tf.zeros([1, out_size]) + 0.1) \n",
    "    Y = tf.matmul(inputs, Weight) + Bias\n",
    "    if activation == None:\n",
    "        outputs = Y\n",
    "    else:\n",
    "        outputs = activation(Y)\n",
    "    return outputs"
   ]
  },
  {
   "cell_type": "markdown",
   "metadata": {},
   "source": [
    "&emsp;compute_accuracy()用于评价预测准确度\n",
    "&emsp;这里要引用训练的模型，需要声明为global，y_pre为用测试集数据得到的结果，ys为测试集的标签  \n",
    "&emsp;tf.argmax()求最大值并返回下标   \n",
    "&emsp;tf.cast()用于转换数据类型"
   ]
  },
  {
   "cell_type": "code",
   "execution_count": 3,
   "metadata": {
    "collapsed": true
   },
   "outputs": [],
   "source": [
    "def compute_accuracy(test_data, test_label):\n",
    "    global prediction\n",
    "    y_pre = sess.run(prediction, feed_dict = {xs: test_data})\n",
    "    correct_prediction = tf.equal(tf.argmax(y_pre, 1), tf.arg_max(ys, 1))\n",
    "    accuracy = tf.reduce_mean(tf.cast(correct_prediction, tf.float32))\n",
    "    result = sess.run(accuracy, feed_dict = {xs: test_data, ys: test_label})\n",
    "    return result"
   ]
  },
  {
   "cell_type": "code",
   "execution_count": 4,
   "metadata": {
    "collapsed": true
   },
   "outputs": [],
   "source": [
    "xs = tf.placeholder(tf.float32, [None, 784])\n",
    "ys = tf.placeholder(tf.float32, [None, 10])"
   ]
  },
  {
   "cell_type": "markdown",
   "metadata": {},
   "source": [
    "&emsp;这里mnist图像大小28X28，共784个像素，因此设置784个输入，多分类采用softmax"
   ]
  },
  {
   "cell_type": "code",
   "execution_count": 5,
   "metadata": {
    "collapsed": true
   },
   "outputs": [],
   "source": [
    "prediction = add_layer(xs, 784, 10, tf.nn.softmax)"
   ]
  },
  {
   "cell_type": "code",
   "execution_count": 6,
   "metadata": {
    "collapsed": true
   },
   "outputs": [],
   "source": [
    "loss = tf.reduce_mean(-tf.reduce_sum(ys * tf.log(prediction), 1))\n",
    "train = tf.train.GradientDescentOptimizer(0.5).minimize(loss)"
   ]
  },
  {
   "cell_type": "markdown",
   "metadata": {},
   "source": [
    "&emsp;这里由于数据较多，全局数据梯度下降的话优化速度很慢，因此采用批梯度下降的策略，每次训练只用一个batch的数据"
   ]
  },
  {
   "cell_type": "code",
   "execution_count": 7,
   "metadata": {
    "collapsed": false
   },
   "outputs": [
    {
     "name": "stdout",
     "output_type": "stream",
     "text": [
      "0.0849\n",
      "0.6282\n",
      "0.7364\n",
      "0.7768\n",
      "0.7945\n",
      "0.8249\n",
      "0.8302\n",
      "0.8404\n",
      "0.8455\n",
      "0.8517\n",
      "0.8583\n",
      "0.8606\n",
      "0.865\n",
      "0.8642\n",
      "0.8671\n",
      "0.8687\n",
      "0.8757\n",
      "0.8733\n",
      "0.8796\n",
      "0.8793\n"
     ]
    }
   ],
   "source": [
    "sess =  tf.Session() \n",
    "sess.run(tf.global_variables_initializer())\n",
    "for step in range(1000):\n",
    "    x_batch, y_batch = mnist.train.next_batch(100)\n",
    "    sess.run(train, feed_dict = {xs:x_batch, ys:y_batch})\n",
    "    if step % 50 == 0:\n",
    "        print(compute_accuracy(mnist.test.images, mnist.test.labels))   "
   ]
  },
  {
   "cell_type": "code",
   "execution_count": 8,
   "metadata": {
    "collapsed": true
   },
   "outputs": [],
   "source": [
    "sess.close()"
   ]
  }
 ],
 "metadata": {
  "kernelspec": {
   "display_name": "Python 3",
   "language": "python",
   "name": "python3"
  },
  "language_info": {
   "codemirror_mode": {
    "name": "ipython",
    "version": 3
   },
   "file_extension": ".py",
   "mimetype": "text/x-python",
   "name": "python",
   "nbconvert_exporter": "python",
   "pygments_lexer": "ipython3",
   "version": "3.5.2"
  }
 },
 "nbformat": 4,
 "nbformat_minor": 2
}
