{
 "cells": [
  {
   "cell_type": "markdown",
   "metadata": {},
   "source": [
    "使用tensorflow前记住将其import  \n",
    "numpy是非常常用的python数值计算库"
   ]
  },
  {
   "cell_type": "code",
   "execution_count": 1,
   "metadata": {
    "collapsed": true
   },
   "outputs": [],
   "source": [
    "import tensorflow as tf\n",
    "import numpy as np"
   ]
  },
  {
   "cell_type": "markdown",
   "metadata": {},
   "source": [
    "这里手动生成了训练数据x_data与y_data  \n",
    "我们的训练目标是拟合函数： $y=wx+b$"
   ]
  },
  {
   "cell_type": "code",
   "execution_count": 2,
   "metadata": {
    "collapsed": true
   },
   "outputs": [],
   "source": [
    "x_data = np.random.rand(100).astype(np.float32)\n",
    "y_data = x_data * 0.1 + 0.3"
   ]
  },
  {
   "cell_type": "markdown",
   "metadata": {},
   "source": [
    "定义需要估计的参数 $w$与 $b$  \n",
    "tensorflow中通常将需要更新的参数声明为变量"
   ]
  },
  {
   "cell_type": "code",
   "execution_count": 3,
   "metadata": {
    "collapsed": false
   },
   "outputs": [],
   "source": [
    "Weight = tf.Variable(tf.random_uniform([1], -0.1, 0.1)) \n",
    "Bias = tf.Variable(tf.random_uniform([1], 0., 0.5))\n",
    "y = Weight * x_data + Bias"
   ]
  },
  {
   "cell_type": "markdown",
   "metadata": {},
   "source": [
    "定义损失函数，损失函数用于评估实际输出与期望值的差距  \n",
    "定义优化方法，这里使用最简单的梯度下降方法"
   ]
  },
  {
   "cell_type": "code",
   "execution_count": 4,
   "metadata": {
    "collapsed": false
   },
   "outputs": [],
   "source": [
    "loss = tf.reduce_mean(tf.square(y - y_data))\n",
    "Optimizer = tf.train.GradientDescentOptimizer(0.5)\n",
    "train = Optimizer.minimize(loss)"
   ]
  },
  {
   "cell_type": "markdown",
   "metadata": {},
   "source": [
    "tensorflow中的变量需要初始化"
   ]
  },
  {
   "cell_type": "code",
   "execution_count": 5,
   "metadata": {
    "collapsed": false
   },
   "outputs": [],
   "source": [
    "Init = tf.global_variables_initializer()"
   ]
  },
  {
   "cell_type": "markdown",
   "metadata": {},
   "source": [
    "tensorflow利用一个会话Session来让之前定义的运算流程实际运作起来"
   ]
  },
  {
   "cell_type": "code",
   "execution_count": 6,
   "metadata": {
    "collapsed": true
   },
   "outputs": [],
   "source": [
    "sess = tf.Session()\n",
    "sess.run(Init)"
   ]
  },
  {
   "cell_type": "markdown",
   "metadata": {},
   "source": [
    "这里迭代201次，每隔十次输出一次当前的 $w$与 $b$的值"
   ]
  },
  {
   "cell_type": "code",
   "execution_count": 7,
   "metadata": {
    "collapsed": false
   },
   "outputs": [
    {
     "name": "stdout",
     "output_type": "stream",
     "text": [
      "0 :  [ 0.15083137] [ 0.33647782]\n",
      "10 :  [ 0.11312301] [ 0.29329512]\n",
      "20 :  [ 0.10674571] [ 0.29655343]\n",
      "30 :  [ 0.10346754] [ 0.29822835]\n",
      "40 :  [ 0.10178244] [ 0.29908931]\n",
      "50 :  [ 0.10091624] [ 0.29953188]\n",
      "60 :  [ 0.10047098] [ 0.29975936]\n",
      "70 :  [ 0.10024209] [ 0.29987633]\n",
      "80 :  [ 0.10012443] [ 0.29993644]\n",
      "90 :  [ 0.10006396] [ 0.29996735]\n",
      "100 :  [ 0.10003287] [ 0.2999832]\n",
      "110 :  [ 0.10001691] [ 0.29999137]\n",
      "120 :  [ 0.10000869] [ 0.29999557]\n",
      "130 :  [ 0.10000447] [ 0.29999772]\n",
      "140 :  [ 0.1000023] [ 0.29999882]\n",
      "150 :  [ 0.10000118] [ 0.29999942]\n",
      "160 :  [ 0.10000061] [ 0.29999968]\n",
      "170 :  [ 0.10000032] [ 0.29999983]\n",
      "180 :  [ 0.10000017] [ 0.29999992]\n",
      "190 :  [ 0.1000001] [ 0.29999995]\n",
      "200 :  [ 0.1000001] [ 0.29999995]\n"
     ]
    }
   ],
   "source": [
    "for step in range(201):\n",
    "    sess.run(train)\n",
    "    if step % 10 == 0:\n",
    "        print(step, \": \", sess.run(Weight), sess.run(Bias))"
   ]
  },
  {
   "cell_type": "markdown",
   "metadata": {},
   "source": [
    "Session运行完毕后需要关闭  \n",
    "with tf.Session as sess不需要手动关闭"
   ]
  },
  {
   "cell_type": "code",
   "execution_count": 8,
   "metadata": {
    "collapsed": false
   },
   "outputs": [],
   "source": [
    "sess.close()"
   ]
  }
 ],
 "metadata": {
  "kernelspec": {
   "display_name": "Python 3",
   "language": "python",
   "name": "python3"
  },
  "language_info": {
   "codemirror_mode": {
    "name": "ipython",
    "version": 3
   },
   "file_extension": ".py",
   "mimetype": "text/x-python",
   "name": "python",
   "nbconvert_exporter": "python",
   "pygments_lexer": "ipython3",
   "version": "3.5.2"
  }
 },
 "nbformat": 4,
 "nbformat_minor": 2
}
