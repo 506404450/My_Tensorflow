{
 "cells": [
  {
   "cell_type": "markdown",
   "metadata": {},
   "source": [
    "使用tensorflow前记住将其import  \n",
    "numpy是非常常用的python数值计算库"
   ]
  },
  {
   "cell_type": "code",
   "execution_count": 1,
   "metadata": {
    "collapsed": true
   },
   "outputs": [],
   "source": [
    "import tensorflow as tf\n",
    "import numpy as np"
   ]
  },
  {
   "cell_type": "markdown",
   "metadata": {},
   "source": [
    "这里手动生成了训练数据x_data与y_data  \n",
    "我们的训练目标是拟合函数： $y=wx+b$"
   ]
  },
  {
   "cell_type": "code",
   "execution_count": 2,
   "metadata": {
    "collapsed": true
   },
   "outputs": [],
   "source": [
    "x_data = np.random.rand(100).astype(np.float32)\n",
    "y_data = x_data * 0.1 + 0.3"
   ]
  },
  {
   "cell_type": "markdown",
   "metadata": {},
   "source": [
    "定义需要估计的参数 $w$与 $b$  \n",
    "tensorflow中通常将需要更新的参数声明为变量"
   ]
  },
  {
   "cell_type": "code",
   "execution_count": 3,
   "metadata": {
    "collapsed": false
   },
   "outputs": [],
   "source": [
    "Weight = tf.Variable(tf.random_uniform([1], -0.1, 0.1)) \n",
    "Bias = tf.Variable(tf.random_uniform([1], 0., 0.5))\n",
    "y = Weight * x_data + Bias"
   ]
  },
  {
   "cell_type": "markdown",
   "metadata": {},
   "source": [
    "定义损失函数，损失函数用于评估实际输出与期望值的差距  \n",
    "定义优化方法，这里使用最简单的梯度下降方法"
   ]
  },
  {
   "cell_type": "code",
   "execution_count": 4,
   "metadata": {
    "collapsed": false
   },
   "outputs": [],
   "source": [
    "loss = tf.reduce_mean(tf.square(y - y_data))\n",
    "Optimizer = tf.train.GradientDescentOptimizer(0.5)\n",
    "train = Optimizer.minimize(loss)"
   ]
  },
  {
   "cell_type": "markdown",
   "metadata": {},
   "source": [
    "tensorflow中的变量需要初始化"
   ]
  },
  {
   "cell_type": "code",
   "execution_count": 5,
   "metadata": {
    "collapsed": false
   },
   "outputs": [],
   "source": [
    "Init = tf.global_variables_initializer()"
   ]
  },
  {
   "cell_type": "markdown",
   "metadata": {},
   "source": [
    "tensorflow利用一个会话Session来让之前定义的运算流程实际运作起来"
   ]
  },
  {
   "cell_type": "code",
   "execution_count": 6,
   "metadata": {
    "collapsed": true
   },
   "outputs": [],
   "source": [
    "sess = tf.Session()\n",
    "sess.run(Init)"
   ]
  },
  {
   "cell_type": "markdown",
   "metadata": {},
   "source": [
    "这里迭代201次，每隔十次输出一次当前的 $w$与 $b$的值"
   ]
  },
  {
   "cell_type": "code",
   "execution_count": 7,
   "metadata": {
    "collapsed": false
   },
   "outputs": [
    {
     "name": "stdout",
     "output_type": "stream",
     "text": [
      "0 :  [ 0.08250877] [ 0.31740835]\n",
      "10 :  [ 0.0898752] [ 0.30547851]\n",
      "20 :  [ 0.09507538] [ 0.3026647]\n",
      "30 :  [ 0.09760473] [ 0.30129609]\n",
      "40 :  [ 0.09883494] [ 0.30063042]\n",
      "50 :  [ 0.09943332] [ 0.30030665]\n",
      "60 :  [ 0.09972437] [ 0.30014917]\n",
      "70 :  [ 0.09986594] [ 0.30007255]\n",
      "80 :  [ 0.09993481] [ 0.3000353]\n",
      "90 :  [ 0.09996829] [ 0.30001718]\n",
      "100 :  [ 0.09998456] [ 0.30000836]\n",
      "110 :  [ 0.09999248] [ 0.30000407]\n",
      "120 :  [ 0.09999635] [ 0.30000198]\n",
      "130 :  [ 0.09999823] [ 0.30000097]\n",
      "140 :  [ 0.09999914] [ 0.30000049]\n",
      "150 :  [ 0.09999958] [ 0.30000025]\n",
      "160 :  [ 0.0999998] [ 0.30000013]\n",
      "170 :  [ 0.0999999] [ 0.30000007]\n",
      "180 :  [ 0.0999999] [ 0.30000007]\n",
      "190 :  [ 0.0999999] [ 0.30000007]\n",
      "200 :  [ 0.0999999] [ 0.30000007]\n"
     ]
    }
   ],
   "source": [
    "for step in range(201):\n",
    "    sess.run(train)\n",
    "    if step % 10 == 0:\n",
    "        print(step, \": \", sess.run(Weight), sess.run(Bias))"
   ]
  }
 ],
 "metadata": {
  "kernelspec": {
   "display_name": "Python 3",
   "language": "python",
   "name": "python3"
  },
  "language_info": {
   "codemirror_mode": {
    "name": "ipython",
    "version": 3
   },
   "file_extension": ".py",
   "mimetype": "text/x-python",
   "name": "python",
   "nbconvert_exporter": "python",
   "pygments_lexer": "ipython3",
   "version": "3.5.2"
  }
 },
 "nbformat": 4,
 "nbformat_minor": 2
}
