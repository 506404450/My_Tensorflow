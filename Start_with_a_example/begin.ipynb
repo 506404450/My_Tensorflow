{
 "cells": [
  {
   "cell_type": "code",
   "execution_count": 1,
   "metadata": {
    "collapsed": true
   },
   "outputs": [],
   "source": [
    "import tensorflow as tf\n",
    "import numpy as np"
   ]
  },
  {
   "cell_type": "code",
   "execution_count": 2,
   "metadata": {
    "collapsed": true
   },
   "outputs": [],
   "source": [
    "x_data = np.random.rand(100).astype(np.float32)\n",
    "y_data = x_data * 0.1 + 0.3"
   ]
  },
  {
   "cell_type": "code",
   "execution_count": 3,
   "metadata": {
    "collapsed": false
   },
   "outputs": [],
   "source": [
    "Weight = tf.Variable(tf.random_uniform([1], -0.1, 0.1)) \n",
    "Bias = tf.Variable(tf.random_uniform([1], 0., 0.5))\n",
    "y = Weight * x_data + Bias"
   ]
  },
  {
   "cell_type": "code",
   "execution_count": 7,
   "metadata": {
    "collapsed": false
   },
   "outputs": [],
   "source": [
    "loss = tf.reduce_mean(tf.square(y - y_data))\n",
    "Optimizer = tf.train.GradientDescentOptimizer(0.5)\n",
    "train = Optimizer.minimize(loss)"
   ]
  },
  {
   "cell_type": "code",
   "execution_count": 9,
   "metadata": {
    "collapsed": false
   },
   "outputs": [],
   "source": [
    "Init = tf.global_variables_initializer()"
   ]
  },
  {
   "cell_type": "code",
   "execution_count": 12,
   "metadata": {
    "collapsed": true
   },
   "outputs": [],
   "source": [
    "sess = tf.Session()\n",
    "sess.run(Init)"
   ]
  },
  {
   "cell_type": "code",
   "execution_count": 17,
   "metadata": {
    "collapsed": false
   },
   "outputs": [
    {
     "name": "stdout",
     "output_type": "stream",
     "text": [
      "0 :  [ 0.0999999] [ 0.30000007]\n",
      "10 :  [ 0.0999999] [ 0.30000007]\n",
      "20 :  [ 0.0999999] [ 0.30000007]\n",
      "30 :  [ 0.0999999] [ 0.30000007]\n",
      "40 :  [ 0.0999999] [ 0.30000007]\n",
      "50 :  [ 0.0999999] [ 0.30000007]\n",
      "60 :  [ 0.0999999] [ 0.30000007]\n",
      "70 :  [ 0.0999999] [ 0.30000007]\n",
      "80 :  [ 0.0999999] [ 0.30000007]\n",
      "90 :  [ 0.0999999] [ 0.30000007]\n",
      "100 :  [ 0.0999999] [ 0.30000007]\n",
      "110 :  [ 0.0999999] [ 0.30000007]\n",
      "120 :  [ 0.0999999] [ 0.30000007]\n",
      "130 :  [ 0.0999999] [ 0.30000007]\n",
      "140 :  [ 0.0999999] [ 0.30000007]\n",
      "150 :  [ 0.0999999] [ 0.30000007]\n",
      "160 :  [ 0.0999999] [ 0.30000007]\n",
      "170 :  [ 0.0999999] [ 0.30000007]\n",
      "180 :  [ 0.0999999] [ 0.30000007]\n",
      "190 :  [ 0.0999999] [ 0.30000007]\n",
      "200 :  [ 0.0999999] [ 0.30000007]\n"
     ]
    }
   ],
   "source": [
    "for step in range(201):\n",
    "    sess.run(train)\n",
    "    if step % 10 == 0:\n",
    "        print(step, \": \", sess.run(Weight), sess.run(Bias))"
   ]
  }
 ],
 "metadata": {
  "kernelspec": {
   "display_name": "Python 3",
   "language": "python",
   "name": "python3"
  },
  "language_info": {
   "codemirror_mode": {
    "name": "ipython",
    "version": 3
   },
   "file_extension": ".py",
   "mimetype": "text/x-python",
   "name": "python",
   "nbconvert_exporter": "python",
   "pygments_lexer": "ipython3",
   "version": "3.5.2"
  }
 },
 "nbformat": 4,
 "nbformat_minor": 2
}
