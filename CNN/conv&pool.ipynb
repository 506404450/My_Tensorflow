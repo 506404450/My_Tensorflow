{
 "cells": [
  {
   "cell_type": "code",
   "execution_count": 24,
   "metadata": {
    "collapsed": false
   },
   "outputs": [
    {
     "name": "stdout",
     "output_type": "stream",
     "text": [
      "Extracting MINST_data/train-images-idx3-ubyte.gz\n",
      "Extracting MINST_data/train-labels-idx1-ubyte.gz\n",
      "Extracting MINST_data/t10k-images-idx3-ubyte.gz\n",
      "Extracting MINST_data/t10k-labels-idx1-ubyte.gz\n"
     ]
    }
   ],
   "source": [
    "import tensorflow as tf\n",
    "from tensorflow.examples.tutorials.mnist import input_data\n",
    "minst = input_data.read_data_sets('MINST_data', one_hot = True)"
   ]
  },
  {
   "cell_type": "code",
   "execution_count": 3,
   "metadata": {
    "collapsed": true
   },
   "outputs": [],
   "source": [
    "def Weight(shape):\n",
    "    weight_mat = tf.truncated_normal(shape, stddev = 0.1)\n",
    "    return tf.Variable(weight_mat)\n",
    "def Bias(shape):\n",
    "    Bias_mat = tf.constant(0.1, shape = shape)\n",
    "    return tf.Variable(Bias_mat)"
   ]
  },
  {
   "cell_type": "markdown",
   "metadata": {},
   "source": [
    "&emsp;将图像转换为四维张量[-1, 28, 28, 1],-1表示样本数量不定,28x28是图片尺寸,最后是通道数"
   ]
  },
  {
   "cell_type": "code",
   "execution_count": 5,
   "metadata": {
    "collapsed": false
   },
   "outputs": [],
   "source": [
    "xs = tf.placeholder(tf.float32, [None, 784])\n",
    "ys = tf.placeholder(tf.float32, [None, 10])\n",
    "x_image = tf.reshape(xs, [-1, 28, 28, 1])"
   ]
  },
  {
   "cell_type": "markdown",
   "metadata": {},
   "source": [
    "&emsp;第一层卷积层与第一层池化层  \n",
    "&emsp;5x5为卷积核大小,1为通道数,32为卷积核数目即卷积特征数也即输出通道数  \n",
    "&emsp;strides为卷积步长,第一个与第四个元素必须为1，中间两个元素为横纵向的步长  \n",
    "&emsp;ksize为池化块大小,padding为填充模式,“VALID”就是不填充,“SAME”就是周围填0,填充使得图片边缘的像素也能卷积  \n",
    "&emsp;max_pool是最大值池化,区域内取最大值"
   ]
  },
  {
   "cell_type": "code",
   "execution_count": 10,
   "metadata": {
    "collapsed": false
   },
   "outputs": [],
   "source": [
    "Weight1 = Weight([5, 5, 1, 32])\n",
    "Bias1 = Bias([32])\n",
    "con1 = tf.nn.relu(tf.nn.conv2d(x_image, Weight1, strides = [1, 1, 1, 1], padding = \"SAME\") + Bias1)\n",
    "pool1 = tf.nn.max_pool(con1, ksize = [1, 2, 2, 1], strides = [1, 2, 2, 1], padding = \"SAME\")"
   ]
  },
  {
   "cell_type": "markdown",
   "metadata": {},
   "source": [
    "&emsp;第二层卷积层与第二层池化层  \n",
    "&emsp;多通道的卷积是在同一个位置,对每个通道的图像卷积,最后相加输出一个通道的特征"
   ]
  },
  {
   "cell_type": "code",
   "execution_count": 11,
   "metadata": {
    "collapsed": false
   },
   "outputs": [],
   "source": [
    "Weight2 = Weight([5, 5, 32, 64])\n",
    "Bias2 = Bias([64])\n",
    "con2 = tf.nn.relu(tf.nn.conv2d(pool1, Weight2, strides = [1, 1, 1, 1], padding = \"SAME\") + Bias2)\n",
    "pool2 = tf.nn.max_pool(con2, ksize = [1, 2, 2, 1], strides = [1, 2, 2, 1], padding = \"SAME\")"
   ]
  },
  {
   "cell_type": "markdown",
   "metadata": {},
   "source": [
    "&emsp;全连接层,输入是卷积池化后的图像大小,第一次28x28x1->14x14x32,第二次14x14x32->7x7x64"
   ]
  },
  {
   "cell_type": "code",
   "execution_count": 14,
   "metadata": {
    "collapsed": true
   },
   "outputs": [],
   "source": [
    "fc_Weight = Weight([7 * 7 * 64, 1024])\n",
    "fc_Bias = Bias([1024])\n",
    "fc_in = tf.reshape(pool2, [-1, 7 * 7 * 64])\n",
    "fc = tf.nn.relu(tf.matmul(fc_in, fc_Weight) + fc_Bias)"
   ]
  },
  {
   "cell_type": "markdown",
   "metadata": {},
   "source": [
    "&emsp;Drop_out防止过拟合"
   ]
  },
  {
   "cell_type": "code",
   "execution_count": 15,
   "metadata": {
    "collapsed": false
   },
   "outputs": [],
   "source": [
    "keep_prob = tf.placeholder(\"float\")\n",
    "fc_drop = tf.nn.dropout(fc, keep_prob)"
   ]
  },
  {
   "cell_type": "markdown",
   "metadata": {},
   "source": [
    "&emsp;加入softmax层"
   ]
  },
  {
   "cell_type": "code",
   "execution_count": 21,
   "metadata": {
    "collapsed": false
   },
   "outputs": [],
   "source": [
    "softmax_w = Weight([1024,10])\n",
    "softmax_bias = Bias([10])\n",
    "y = tf.nn.softmax(tf.matmul(fc_drop, softmax_w) + softmax_bias)"
   ]
  },
  {
   "cell_type": "markdown",
   "metadata": {},
   "source": [
    "&emsp;定义交叉熵损失函数"
   ]
  },
  {
   "cell_type": "code",
   "execution_count": 22,
   "metadata": {
    "collapsed": false
   },
   "outputs": [],
   "source": [
    "cross_entropy = -tf.reduce_mean(ys * tf.log(y))\n",
    "train = tf.train.AdamOptimizer(1e-4).minimize(cross_entropy)"
   ]
  },
  {
   "cell_type": "code",
   "execution_count": 25,
   "metadata": {
    "collapsed": true
   },
   "outputs": [],
   "source": [
    "correct_prediction = tf.equal(tf.argmax(y,1), tf.argmax(ys,1))\n",
    "accuracy = tf.reduce_mean(tf.cast(correct_prediction, \"float\"))"
   ]
  },
  {
   "cell_type": "code",
   "execution_count": 56,
   "metadata": {
    "collapsed": false
   },
   "outputs": [
    {
     "name": "stdout",
     "output_type": "stream",
     "text": [
      "0.16\n",
      "0.9\n",
      "0.8\n",
      "0.98\n",
      "0.88\n",
      "0.98\n",
      "0.86\n",
      "0.94\n",
      "0.9\n",
      "0.94\n",
      "0.96\n",
      "0.98\n",
      "0.98\n",
      "0.98\n",
      "1.0\n",
      "0.96\n",
      "0.96\n",
      "0.94\n",
      "0.98\n",
      "1.0\n",
      "1.0\n",
      "1.0\n",
      "0.96\n",
      "0.98\n",
      "0.96\n",
      "1.0\n",
      "1.0\n",
      "1.0\n",
      "1.0\n",
      "0.96\n",
      "0.98\n",
      "1.0\n",
      "0.98\n",
      "0.96\n",
      "0.98\n",
      "0.98\n",
      "0.96\n",
      "1.0\n",
      "1.0\n",
      "0.98\n",
      "0.98\n",
      "1.0\n",
      "1.0\n",
      "1.0\n",
      "1.0\n",
      "1.0\n",
      "0.98\n",
      "1.0\n",
      "0.98\n",
      "1.0\n",
      "0.98\n",
      "1.0\n",
      "1.0\n",
      "0.98\n",
      "0.98\n",
      "1.0\n",
      "1.0\n",
      "1.0\n",
      "1.0\n",
      "0.98\n",
      "1.0\n",
      "1.0\n",
      "0.98\n",
      "1.0\n",
      "0.98\n",
      "1.0\n",
      "1.0\n",
      "0.98\n",
      "1.0\n",
      "1.0\n",
      "1.0\n",
      "1.0\n",
      "1.0\n",
      "1.0\n",
      "1.0\n",
      "1.0\n",
      "1.0\n",
      "1.0\n",
      "1.0\n",
      "1.0\n",
      "1.0\n",
      "1.0\n",
      "1.0\n",
      "0.98\n",
      "1.0\n",
      "1.0\n",
      "1.0\n",
      "1.0\n",
      "1.0\n",
      "1.0\n",
      "1.0\n",
      "1.0\n",
      "1.0\n",
      "1.0\n",
      "1.0\n",
      "1.0\n",
      "1.0\n",
      "1.0\n",
      "1.0\n",
      "1.0\n",
      "test:  0.991\n"
     ]
    }
   ],
   "source": [
    "with tf.Session() as sess:\n",
    "    sess.run(tf.global_variables_initializer())\n",
    "    for step in range(10000):\n",
    "        batch = mnist.train.next_batch(50)\n",
    "        sess.run(train, feed_dict = {xs:batch[0], ys:batch[1], keep_prob:1.0})\n",
    "        if step % 100 == 0:\n",
    "            print(sess.run(accuracy, feed_dict = {xs:batch[0], ys:batch[1], keep_prob:1.0}))\n",
    "    print(\"test: \", sess.run(accuracy, feed_dict = {xs:minst.test.images, ys:minst.test.labels, keep_prob:1.0}))"
   ]
  }
 ],
 "metadata": {
  "kernelspec": {
   "display_name": "Python 3",
   "language": "python",
   "name": "python3"
  },
  "language_info": {
   "codemirror_mode": {
    "name": "ipython",
    "version": 3
   },
   "file_extension": ".py",
   "mimetype": "text/x-python",
   "name": "python",
   "nbconvert_exporter": "python",
   "pygments_lexer": "ipython3",
   "version": "3.5.2"
  }
 },
 "nbformat": 4,
 "nbformat_minor": 2
}
